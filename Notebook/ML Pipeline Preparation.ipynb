{
 "cells": [
  {
   "cell_type": "markdown",
   "id": "b1dc8326",
   "metadata": {},
   "source": [
    "# ML Pipeline Preparation\n",
    "\n",
    "### 1. Import libraries and load data from database."
   ]
  },
  {
   "cell_type": "code",
   "execution_count": 1,
   "id": "ec6afaae",
   "metadata": {},
   "outputs": [
    {
     "name": "stderr",
     "output_type": "stream",
     "text": [
      "[nltk_data] Downloading package punkt to /Users/johnma/nltk_data...\n",
      "[nltk_data]   Package punkt is already up-to-date!\n",
      "[nltk_data] Downloading package wordnet to /Users/johnma/nltk_data...\n",
      "[nltk_data]   Package wordnet is already up-to-date!\n",
      "[nltk_data] Downloading package stopwords to\n",
      "[nltk_data]     /Users/johnma/nltk_data...\n",
      "[nltk_data]   Package stopwords is already up-to-date!\n"
     ]
    }
   ],
   "source": [
    "# import libraries\n",
    "\n",
    "import re\n",
    "import numpy as np\n",
    "import pandas as pd\n",
    "import pickle\n",
    "import nltk\n",
    "nltk.download('punkt')\n",
    "nltk.download('wordnet')\n",
    "nltk.download('stopwords')\n",
    "from nltk.tokenize import word_tokenize\n",
    "from nltk.stem import WordNetLemmatizer\n",
    "from nltk.stem import PorterStemmer\n",
    "from nltk.corpus import stopwords\n",
    "import sqlite3\n",
    "from sqlalchemy import create_engine\n",
    "\n",
    "#from sklearn.svm import LinearSVC\n",
    "#from sklearn.linear_model import SGDClassifier\n",
    "from sklearn.svm import SVC\n",
    "from sklearn.datasets import make_multilabel_classification\n",
    "from sklearn.multioutput import MultiOutputClassifier\n",
    "from sklearn.metrics import confusion_matrix\n",
    "from sklearn.model_selection import GridSearchCV\n",
    "from sklearn.ensemble import RandomForestClassifier\n",
    "from sklearn.linear_model import LogisticRegression\n",
    "from sklearn.model_selection import train_test_split\n",
    "from sklearn.pipeline import Pipeline, FeatureUnion\n",
    "#from sklearn.base import BaseEstimator, TransformerMixin\n",
    "from sklearn.feature_extraction.text import CountVectorizer, TfidfTransformer\n",
    "from sklearn.feature_extraction.text import TfidfVectorizer\n",
    "from sklearn.metrics import classification_report\n",
    "from sklearn.naive_bayes import MultinomialNB\n",
    "from sklearn.metrics import  f1_score,precision_score,recall_score,accuracy_score,make_scorer\n",
    "import matplotlib.pyplot as plt\n",
    "%matplotlib inline\n",
    "\n",
    "# suppress warnings from final output\n",
    "import warnings\n",
    "warnings.simplefilter(\"ignore\")"
   ]
  },
  {
   "cell_type": "code",
   "execution_count": 2,
   "id": "61faec24",
   "metadata": {},
   "outputs": [
    {
     "name": "stdout",
     "output_type": "stream",
     "text": [
      "<class 'pandas.core.frame.DataFrame'>\n",
      "RangeIndex: 26028 entries, 0 to 26027\n",
      "Data columns (total 35 columns):\n",
      " #   Column                  Non-Null Count  Dtype\n",
      "---  ------                  --------------  -----\n",
      " 0   related                 26028 non-null  int64\n",
      " 1   request                 26028 non-null  int64\n",
      " 2   offer                   26028 non-null  int64\n",
      " 3   aid_related             26028 non-null  int64\n",
      " 4   medical_help            26028 non-null  int64\n",
      " 5   medical_products        26028 non-null  int64\n",
      " 6   search_and_rescue       26028 non-null  int64\n",
      " 7   security                26028 non-null  int64\n",
      " 8   military                26028 non-null  int64\n",
      " 9   water                   26028 non-null  int64\n",
      " 10  food                    26028 non-null  int64\n",
      " 11  shelter                 26028 non-null  int64\n",
      " 12  clothing                26028 non-null  int64\n",
      " 13  money                   26028 non-null  int64\n",
      " 14  missing_people          26028 non-null  int64\n",
      " 15  refugees                26028 non-null  int64\n",
      " 16  death                   26028 non-null  int64\n",
      " 17  other_aid               26028 non-null  int64\n",
      " 18  infrastructure_related  26028 non-null  int64\n",
      " 19  transport               26028 non-null  int64\n",
      " 20  buildings               26028 non-null  int64\n",
      " 21  electricity             26028 non-null  int64\n",
      " 22  tools                   26028 non-null  int64\n",
      " 23  hospitals               26028 non-null  int64\n",
      " 24  shops                   26028 non-null  int64\n",
      " 25  aid_centers             26028 non-null  int64\n",
      " 26  other_infrastructure    26028 non-null  int64\n",
      " 27  weather_related         26028 non-null  int64\n",
      " 28  floods                  26028 non-null  int64\n",
      " 29  storm                   26028 non-null  int64\n",
      " 30  fire                    26028 non-null  int64\n",
      " 31  earthquake              26028 non-null  int64\n",
      " 32  cold                    26028 non-null  int64\n",
      " 33  other_weather           26028 non-null  int64\n",
      " 34  direct_report           26028 non-null  int64\n",
      "dtypes: int64(35)\n",
      "memory usage: 7.0 MB\n"
     ]
    }
   ],
   "source": [
    "# load data from database\n",
    "#engine = create_engine('../ETL Pipeline/DisasterResponse.db')\n",
    "conn = sqlite3.connect('../ETL Pipeline/DisasterResponse.db')\n",
    "df = pd.read_sql('SELECT * FROM table1', con=conn)\n",
    "\n",
    "X = df['message']\n",
    "y = df.iloc[:, 4:]\n",
    "y.info()"
   ]
  },
  {
   "cell_type": "markdown",
   "id": "5c371d96",
   "metadata": {},
   "source": [
    "### 2. Write a tokenization function to process your text data"
   ]
  },
  {
   "cell_type": "code",
   "execution_count": 3,
   "id": "0213788f",
   "metadata": {},
   "outputs": [],
   "source": [
    "# Function to tokenize the text\n",
    "\n",
    "def tokenize(text):\n",
    "    \"\"\"Tokenization function: \n",
    "    Input: raw text \n",
    "    \n",
    "    Process: \n",
    "    url replacement\n",
    "    normalized\n",
    "    stop words removed\n",
    "    stemmd\n",
    "    lemmatized\n",
    "    \n",
    "    Output: tokenized text\"\"\"\n",
    "    \n",
    "    url_regex = 'http[s]?://(?:[a-zA-Z]|[0-9]|[$-_@.&+]|[!*\\(\\),]|(?:%[0-9a-fA-F][0-9a-fA-F]))+'\n",
    "    \n",
    "    # replace url with \"urlplaceholder\"\n",
    "    detected_urls = re.findall(url_regex, text)\n",
    "    for url in detected_urls:\n",
    "        text = text.replace(url, \"urlplaceholder\")\n",
    "    \n",
    "    # Normalize text\n",
    "    text = re.sub(r\"[^a-zA-Z0-9]\", \" \", text.lower())\n",
    "    \n",
    "    stop_words = stopwords.words(\"english\")\n",
    "    \n",
    "    \n",
    "    #tokenize\n",
    "    words = word_tokenize (text)\n",
    "    \n",
    "    #stemming\n",
    "    stemmed = [PorterStemmer().stem(w) for w in words]\n",
    "    \n",
    "    #lemmatizing\n",
    "    clean_tokens = [WordNetLemmatizer().lemmatize(w) for w in stemmed if w not in stop_words]\n",
    "   \n",
    "    return clean_tokens"
   ]
  },
  {
   "cell_type": "code",
   "execution_count": 4,
   "id": "bbb933aa",
   "metadata": {},
   "outputs": [
    {
     "data": {
      "text/plain": [
       "['weather', 'updat', 'cold', 'front', 'cuba', 'could', 'pas', 'haiti']"
      ]
     },
     "execution_count": 4,
     "metadata": {},
     "output_type": "execute_result"
    }
   ],
   "source": [
    "# Check the function is working\n",
    "tokenize(X[0])"
   ]
  },
  {
   "cell_type": "markdown",
   "id": "c26ec797",
   "metadata": {},
   "source": [
    "### 3. Build a machine learning pipeline"
   ]
  },
  {
   "cell_type": "code",
   "execution_count": 5,
   "id": "592e2d7c",
   "metadata": {},
   "outputs": [],
   "source": [
    "# pipeline_rfc : Random Foreset Classifier is chosen as the default prediction model\n",
    "pipeline_rfc = Pipeline([\n",
    "        ('vect', CountVectorizer(tokenizer=tokenize)),\n",
    "        ('tfidf', TfidfTransformer()),\n",
    "        ('clf', MultiOutputClassifier(RandomForestClassifier(random_state=42))),\n",
    "    ])\n",
    "\n",
    "\n",
    "# Pipeline_log uses Logistic Classifier\n",
    "pipeline_log = Pipeline([\n",
    "        ('vect', CountVectorizer(tokenizer=tokenize)),\n",
    "        ('tfidf', TfidfTransformer()),\n",
    "        ('clf_log',  MultiOutputClassifier(LogisticRegression())) \n",
    "    ])\n",
    "\n",
    "# Pipeline_svm uses Support Vector Machines Classifier\n",
    "pipeline_svm = Pipeline([\n",
    "        ('vect', CountVectorizer(tokenizer=tokenize)),\n",
    "        ('tfidf', TfidfTransformer()),\n",
    "        ('clf_svm',  MultiOutputClassifier(SVC(max_iter=100000, random_state=42))) \n",
    "    ])"
   ]
  },
  {
   "cell_type": "markdown",
   "id": "7dfa624c",
   "metadata": {},
   "source": [
    "### 4. Train pipeline"
   ]
  },
  {
   "cell_type": "code",
   "execution_count": 6,
   "id": "b34703a5",
   "metadata": {},
   "outputs": [],
   "source": [
    "# Split data into train and test sets\n",
    "X_train, X_test, y_train, y_test = train_test_split(X, y)"
   ]
  },
  {
   "cell_type": "code",
   "execution_count": 7,
   "id": "ee8b3ee4",
   "metadata": {},
   "outputs": [
    {
     "data": {
      "text/html": [
       "<style>#sk-container-id-1 {color: black;background-color: white;}#sk-container-id-1 pre{padding: 0;}#sk-container-id-1 div.sk-toggleable {background-color: white;}#sk-container-id-1 label.sk-toggleable__label {cursor: pointer;display: block;width: 100%;margin-bottom: 0;padding: 0.3em;box-sizing: border-box;text-align: center;}#sk-container-id-1 label.sk-toggleable__label-arrow:before {content: \"▸\";float: left;margin-right: 0.25em;color: #696969;}#sk-container-id-1 label.sk-toggleable__label-arrow:hover:before {color: black;}#sk-container-id-1 div.sk-estimator:hover label.sk-toggleable__label-arrow:before {color: black;}#sk-container-id-1 div.sk-toggleable__content {max-height: 0;max-width: 0;overflow: hidden;text-align: left;background-color: #f0f8ff;}#sk-container-id-1 div.sk-toggleable__content pre {margin: 0.2em;color: black;border-radius: 0.25em;background-color: #f0f8ff;}#sk-container-id-1 input.sk-toggleable__control:checked~div.sk-toggleable__content {max-height: 200px;max-width: 100%;overflow: auto;}#sk-container-id-1 input.sk-toggleable__control:checked~label.sk-toggleable__label-arrow:before {content: \"▾\";}#sk-container-id-1 div.sk-estimator input.sk-toggleable__control:checked~label.sk-toggleable__label {background-color: #d4ebff;}#sk-container-id-1 div.sk-label input.sk-toggleable__control:checked~label.sk-toggleable__label {background-color: #d4ebff;}#sk-container-id-1 input.sk-hidden--visually {border: 0;clip: rect(1px 1px 1px 1px);clip: rect(1px, 1px, 1px, 1px);height: 1px;margin: -1px;overflow: hidden;padding: 0;position: absolute;width: 1px;}#sk-container-id-1 div.sk-estimator {font-family: monospace;background-color: #f0f8ff;border: 1px dotted black;border-radius: 0.25em;box-sizing: border-box;margin-bottom: 0.5em;}#sk-container-id-1 div.sk-estimator:hover {background-color: #d4ebff;}#sk-container-id-1 div.sk-parallel-item::after {content: \"\";width: 100%;border-bottom: 1px solid gray;flex-grow: 1;}#sk-container-id-1 div.sk-label:hover label.sk-toggleable__label {background-color: #d4ebff;}#sk-container-id-1 div.sk-serial::before {content: \"\";position: absolute;border-left: 1px solid gray;box-sizing: border-box;top: 0;bottom: 0;left: 50%;z-index: 0;}#sk-container-id-1 div.sk-serial {display: flex;flex-direction: column;align-items: center;background-color: white;padding-right: 0.2em;padding-left: 0.2em;position: relative;}#sk-container-id-1 div.sk-item {position: relative;z-index: 1;}#sk-container-id-1 div.sk-parallel {display: flex;align-items: stretch;justify-content: center;background-color: white;position: relative;}#sk-container-id-1 div.sk-item::before, #sk-container-id-1 div.sk-parallel-item::before {content: \"\";position: absolute;border-left: 1px solid gray;box-sizing: border-box;top: 0;bottom: 0;left: 50%;z-index: -1;}#sk-container-id-1 div.sk-parallel-item {display: flex;flex-direction: column;z-index: 1;position: relative;background-color: white;}#sk-container-id-1 div.sk-parallel-item:first-child::after {align-self: flex-end;width: 50%;}#sk-container-id-1 div.sk-parallel-item:last-child::after {align-self: flex-start;width: 50%;}#sk-container-id-1 div.sk-parallel-item:only-child::after {width: 0;}#sk-container-id-1 div.sk-dashed-wrapped {border: 1px dashed gray;margin: 0 0.4em 0.5em 0.4em;box-sizing: border-box;padding-bottom: 0.4em;background-color: white;}#sk-container-id-1 div.sk-label label {font-family: monospace;font-weight: bold;display: inline-block;line-height: 1.2em;}#sk-container-id-1 div.sk-label-container {text-align: center;}#sk-container-id-1 div.sk-container {/* jupyter's `normalize.less` sets `[hidden] { display: none; }` but bootstrap.min.css set `[hidden] { display: none !important; }` so we also need the `!important` here to be able to override the default hidden behavior on the sphinx rendered scikit-learn.org. See: https://github.com/scikit-learn/scikit-learn/issues/21755 */display: inline-block !important;position: relative;}#sk-container-id-1 div.sk-text-repr-fallback {display: none;}</style><div id=\"sk-container-id-1\" class=\"sk-top-container\"><div class=\"sk-text-repr-fallback\"><pre>Pipeline(steps=[(&#x27;vect&#x27;,\n",
       "                 CountVectorizer(tokenizer=&lt;function tokenize at 0x122378ca0&gt;)),\n",
       "                (&#x27;tfidf&#x27;, TfidfTransformer()),\n",
       "                (&#x27;clf&#x27;,\n",
       "                 MultiOutputClassifier(estimator=RandomForestClassifier(random_state=42)))])</pre><b>In a Jupyter environment, please rerun this cell to show the HTML representation or trust the notebook. <br />On GitHub, the HTML representation is unable to render, please try loading this page with nbviewer.org.</b></div><div class=\"sk-container\" hidden><div class=\"sk-item sk-dashed-wrapped\"><div class=\"sk-label-container\"><div class=\"sk-label sk-toggleable\"><input class=\"sk-toggleable__control sk-hidden--visually\" id=\"sk-estimator-id-1\" type=\"checkbox\" ><label for=\"sk-estimator-id-1\" class=\"sk-toggleable__label sk-toggleable__label-arrow\">Pipeline</label><div class=\"sk-toggleable__content\"><pre>Pipeline(steps=[(&#x27;vect&#x27;,\n",
       "                 CountVectorizer(tokenizer=&lt;function tokenize at 0x122378ca0&gt;)),\n",
       "                (&#x27;tfidf&#x27;, TfidfTransformer()),\n",
       "                (&#x27;clf&#x27;,\n",
       "                 MultiOutputClassifier(estimator=RandomForestClassifier(random_state=42)))])</pre></div></div></div><div class=\"sk-serial\"><div class=\"sk-item\"><div class=\"sk-estimator sk-toggleable\"><input class=\"sk-toggleable__control sk-hidden--visually\" id=\"sk-estimator-id-2\" type=\"checkbox\" ><label for=\"sk-estimator-id-2\" class=\"sk-toggleable__label sk-toggleable__label-arrow\">CountVectorizer</label><div class=\"sk-toggleable__content\"><pre>CountVectorizer(tokenizer=&lt;function tokenize at 0x122378ca0&gt;)</pre></div></div></div><div class=\"sk-item\"><div class=\"sk-estimator sk-toggleable\"><input class=\"sk-toggleable__control sk-hidden--visually\" id=\"sk-estimator-id-3\" type=\"checkbox\" ><label for=\"sk-estimator-id-3\" class=\"sk-toggleable__label sk-toggleable__label-arrow\">TfidfTransformer</label><div class=\"sk-toggleable__content\"><pre>TfidfTransformer()</pre></div></div></div><div class=\"sk-item sk-dashed-wrapped\"><div class=\"sk-label-container\"><div class=\"sk-label sk-toggleable\"><input class=\"sk-toggleable__control sk-hidden--visually\" id=\"sk-estimator-id-4\" type=\"checkbox\" ><label for=\"sk-estimator-id-4\" class=\"sk-toggleable__label sk-toggleable__label-arrow\">clf: MultiOutputClassifier</label><div class=\"sk-toggleable__content\"><pre>MultiOutputClassifier(estimator=RandomForestClassifier(random_state=42))</pre></div></div></div><div class=\"sk-parallel\"><div class=\"sk-parallel-item\"><div class=\"sk-item\"><div class=\"sk-label-container\"><div class=\"sk-label sk-toggleable\"><input class=\"sk-toggleable__control sk-hidden--visually\" id=\"sk-estimator-id-5\" type=\"checkbox\" ><label for=\"sk-estimator-id-5\" class=\"sk-toggleable__label sk-toggleable__label-arrow\">estimator: RandomForestClassifier</label><div class=\"sk-toggleable__content\"><pre>RandomForestClassifier(random_state=42)</pre></div></div></div><div class=\"sk-serial\"><div class=\"sk-item\"><div class=\"sk-estimator sk-toggleable\"><input class=\"sk-toggleable__control sk-hidden--visually\" id=\"sk-estimator-id-6\" type=\"checkbox\" ><label for=\"sk-estimator-id-6\" class=\"sk-toggleable__label sk-toggleable__label-arrow\">RandomForestClassifier</label><div class=\"sk-toggleable__content\"><pre>RandomForestClassifier(random_state=42)</pre></div></div></div></div></div></div></div></div></div></div></div></div>"
      ],
      "text/plain": [
       "Pipeline(steps=[('vect',\n",
       "                 CountVectorizer(tokenizer=<function tokenize at 0x122378ca0>)),\n",
       "                ('tfidf', TfidfTransformer()),\n",
       "                ('clf',\n",
       "                 MultiOutputClassifier(estimator=RandomForestClassifier(random_state=42)))])"
      ]
     },
     "execution_count": 7,
     "metadata": {},
     "output_type": "execute_result"
    }
   ],
   "source": [
    "# Train classifier -- Random Forest Classifier\n",
    "pipeline_rfc.fit(X_train, y_train)"
   ]
  },
  {
   "cell_type": "markdown",
   "id": "761801a6",
   "metadata": {},
   "source": [
    "### 5. Test your model"
   ]
  },
  {
   "cell_type": "code",
   "execution_count": 8,
   "id": "cae2413f",
   "metadata": {},
   "outputs": [
    {
     "name": "stdout",
     "output_type": "stream",
     "text": [
      "The training accuracy is: \n",
      "99.49797653808719\n",
      " \n",
      "The test accuracy is: \n",
      "26.433072076225606\n",
      " \n",
      "Classification report\n",
      "                        precision    recall  f1-score   support\n",
      "\n",
      "               related       0.83      0.95      0.89      4962\n",
      "               request       0.82      0.48      0.61      1141\n",
      "                 offer       0.00      0.00      0.00        30\n",
      "           aid_related       0.75      0.70      0.72      2678\n",
      "          medical_help       0.62      0.08      0.14       520\n",
      "      medical_products       0.89      0.08      0.14       311\n",
      "     search_and_rescue       0.62      0.05      0.09       202\n",
      "              security       0.00      0.00      0.00       120\n",
      "              military       0.39      0.03      0.06       210\n",
      "                 water       0.85      0.38      0.52       413\n",
      "                  food       0.82      0.63      0.71       716\n",
      "               shelter       0.83      0.36      0.51       569\n",
      "              clothing       0.78      0.07      0.13        98\n",
      "                 money       0.67      0.03      0.05       143\n",
      "        missing_people       1.00      0.01      0.02        80\n",
      "              refugees       0.50      0.01      0.03       212\n",
      "                 death       0.83      0.13      0.23       295\n",
      "             other_aid       0.61      0.04      0.07       859\n",
      "infrastructure_related       0.67      0.00      0.01       434\n",
      "             transport       0.73      0.06      0.12       301\n",
      "             buildings       0.82      0.11      0.20       322\n",
      "           electricity       1.00      0.04      0.07       137\n",
      "                 tools       0.00      0.00      0.00        37\n",
      "             hospitals       0.00      0.00      0.00        70\n",
      "                 shops       0.00      0.00      0.00        36\n",
      "           aid_centers       0.00      0.00      0.00        70\n",
      "  other_infrastructure       0.00      0.00      0.00       291\n",
      "       weather_related       0.85      0.69      0.76      1856\n",
      "                floods       0.89      0.48      0.62       534\n",
      "                 storm       0.79      0.53      0.63       630\n",
      "                  fire       1.00      0.02      0.03        65\n",
      "            earthquake       0.93      0.80      0.86       620\n",
      "                  cold       0.83      0.07      0.14       135\n",
      "         other_weather       0.40      0.01      0.02       353\n",
      "         direct_report       0.79      0.36      0.49      1276\n",
      "\n",
      "             micro avg       0.82      0.53      0.64     20726\n",
      "             macro avg       0.61      0.21      0.25     20726\n",
      "          weighted avg       0.76      0.53      0.57     20726\n",
      "           samples avg       0.66      0.48      0.51     20726\n",
      "\n"
     ]
    }
   ],
   "source": [
    "y_pred_rfc = pipeline_rfc.predict(X_test)\n",
    "\n",
    "# Training accuracy\n",
    "print(\"The training accuracy is: \")\n",
    "print(accuracy_score(y_train, pipeline_rfc.predict(X_train))*100)\n",
    "print(\" \")\n",
    "\n",
    "# Test accuracy\n",
    "print(\"The test accuracy is: \")\n",
    "print(accuracy_score(y_test, y_pred_rfc)*100)\n",
    "print(\" \")\n",
    "\n",
    "# Classification report\n",
    "print(\"Classification report\")\n",
    "print(classification_report(y_test, y_pred_rfc, target_names=y.columns.values))"
   ]
  },
  {
   "cell_type": "code",
   "execution_count": 9,
   "id": "ce10290b",
   "metadata": {},
   "outputs": [
    {
     "name": "stdout",
     "output_type": "stream",
     "text": [
      "The training accuracy is: \n",
      "36.70406229189078\n",
      " \n",
      "The test accuracy is: \n",
      "28.200399569694174\n",
      " \n",
      "Classification report\n",
      "                        precision    recall  f1-score   support\n",
      "\n",
      "               related       0.84      0.95      0.89      4962\n",
      "               request       0.81      0.54      0.64      1141\n",
      "                 offer       0.00      0.00      0.00        30\n",
      "           aid_related       0.77      0.67      0.72      2678\n",
      "          medical_help       0.66      0.19      0.30       520\n",
      "      medical_products       0.78      0.20      0.32       311\n",
      "     search_and_rescue       0.81      0.06      0.12       202\n",
      "              security       0.00      0.00      0.00       120\n",
      "              military       0.65      0.12      0.21       210\n",
      "                 water       0.75      0.54      0.63       413\n",
      "                  food       0.82      0.58      0.68       716\n",
      "               shelter       0.82      0.45      0.59       569\n",
      "              clothing       0.77      0.23      0.36        98\n",
      "                 money       0.77      0.12      0.21       143\n",
      "        missing_people       0.00      0.00      0.00        80\n",
      "              refugees       0.81      0.14      0.24       212\n",
      "                 death       0.80      0.27      0.41       295\n",
      "             other_aid       0.62      0.12      0.20       859\n",
      "infrastructure_related       0.63      0.04      0.07       434\n",
      "             transport       0.82      0.10      0.18       301\n",
      "             buildings       0.75      0.26      0.39       322\n",
      "           electricity       0.79      0.14      0.24       137\n",
      "                 tools       0.00      0.00      0.00        37\n",
      "             hospitals       1.00      0.01      0.03        70\n",
      "                 shops       0.00      0.00      0.00        36\n",
      "           aid_centers       0.00      0.00      0.00        70\n",
      "  other_infrastructure       0.50      0.02      0.03       291\n",
      "       weather_related       0.86      0.66      0.75      1856\n",
      "                floods       0.90      0.45      0.60       534\n",
      "                 storm       0.77      0.44      0.56       630\n",
      "                  fire       1.00      0.06      0.12        65\n",
      "            earthquake       0.93      0.65      0.77       620\n",
      "                  cold       0.71      0.11      0.19       135\n",
      "         other_weather       0.48      0.04      0.07       353\n",
      "         direct_report       0.77      0.45      0.57      1276\n",
      "\n",
      "             micro avg       0.81      0.55      0.66     20726\n",
      "             macro avg       0.64      0.25      0.32     20726\n",
      "          weighted avg       0.77      0.55      0.60     20726\n",
      "           samples avg       0.66      0.49      0.52     20726\n",
      "\n"
     ]
    }
   ],
   "source": [
    "# Train classifier -- Logistic Regression Classifier\n",
    "pipeline_log.fit(X_train, y_train)\n",
    "\n",
    "y_pred_log = pipeline_log.predict(X_test)\n",
    "\n",
    "# Training accuracy\n",
    "print(\"The training accuracy is: \")\n",
    "print(accuracy_score(y_train, pipeline_log.predict(X_train))*100)\n",
    "print(\" \")\n",
    "\n",
    "# Test accuracy\n",
    "print(\"The test accuracy is: \")\n",
    "print(accuracy_score(y_test, y_pred_log)*100)\n",
    "print(\" \")\n",
    "\n",
    "# Classification report\n",
    "print(\"Classification report\")\n",
    "print(classification_report(y_test, y_pred_log, target_names=y.columns.values))"
   ]
  },
  {
   "cell_type": "markdown",
   "id": "c27b37ba",
   "metadata": {},
   "source": [
    "> The prediction result of Random Forest Classifier seems promising at the first glace; however, the training accuracy is extremely high, reaches at more than 99%, compared to merely 27.67% of test accuracy. It's a sign of overfitting, and thus I don't think it a proper model for further prediction.\n",
    "\n",
    "> By using Logistic Regression Classifier, the speed of training is relatively quicker, and the prediction of accuracy is slightly higher than that of random forest model. I will proceed to next step on logistic regression model."
   ]
  },
  {
   "cell_type": "markdown",
   "id": "ef3afd22",
   "metadata": {},
   "source": [
    "### 6. Improve your model\n",
    "Use grid search to find better parameters. "
   ]
  },
  {
   "cell_type": "code",
   "execution_count": 10,
   "id": "a730fcd5",
   "metadata": {},
   "outputs": [],
   "source": [
    "# Check parameters of Logistic Regression Classifier\n",
    "#pipeline_log.get_params()"
   ]
  },
  {
   "cell_type": "code",
   "execution_count": 11,
   "id": "ef5dcac6",
   "metadata": {},
   "outputs": [
    {
     "name": "stdout",
     "output_type": "stream",
     "text": [
      "Fitting 3 folds for each of 9 candidates, totalling 27 fits\n",
      "The best hyperparameters from Grid Search are:\n",
      "{'clf_log__estimator__C': 10, 'clf_log__estimator__solver': 'newton-cg'}\n",
      "\n",
      "The mean accuracy of a model with these hyperparameters is:\n",
      "0.2774960299165002\n"
     ]
    }
   ],
   "source": [
    "# Define parameters\n",
    "parameters_log = {\n",
    "              'clf_log__estimator__solver':['newton-cg', 'lbfgs', 'liblinear'],\n",
    "              'clf_log__estimator__C': [100, 10, 1.0]\n",
    "             }\n",
    "\n",
    "\n",
    "%timeit\n",
    "cv = GridSearchCV(pipeline_log, param_grid=parameters_log, cv=3, verbose=1)\n",
    "cv.fit(X_train, y_train) # Fit GridSearchCV on training data\n",
    "\n",
    "print(\"The best hyperparameters from Grid Search are:\")\n",
    "print(cv.best_params_)\n",
    "print(\"\")\n",
    "print(\"The mean accuracy of a model with these hyperparameters is:\")\n",
    "print(cv.best_score_)"
   ]
  },
  {
   "cell_type": "code",
   "execution_count": 12,
   "id": "1b2e392d",
   "metadata": {},
   "outputs": [
    {
     "data": {
      "text/html": [
       "<style>#sk-container-id-2 {color: black;background-color: white;}#sk-container-id-2 pre{padding: 0;}#sk-container-id-2 div.sk-toggleable {background-color: white;}#sk-container-id-2 label.sk-toggleable__label {cursor: pointer;display: block;width: 100%;margin-bottom: 0;padding: 0.3em;box-sizing: border-box;text-align: center;}#sk-container-id-2 label.sk-toggleable__label-arrow:before {content: \"▸\";float: left;margin-right: 0.25em;color: #696969;}#sk-container-id-2 label.sk-toggleable__label-arrow:hover:before {color: black;}#sk-container-id-2 div.sk-estimator:hover label.sk-toggleable__label-arrow:before {color: black;}#sk-container-id-2 div.sk-toggleable__content {max-height: 0;max-width: 0;overflow: hidden;text-align: left;background-color: #f0f8ff;}#sk-container-id-2 div.sk-toggleable__content pre {margin: 0.2em;color: black;border-radius: 0.25em;background-color: #f0f8ff;}#sk-container-id-2 input.sk-toggleable__control:checked~div.sk-toggleable__content {max-height: 200px;max-width: 100%;overflow: auto;}#sk-container-id-2 input.sk-toggleable__control:checked~label.sk-toggleable__label-arrow:before {content: \"▾\";}#sk-container-id-2 div.sk-estimator input.sk-toggleable__control:checked~label.sk-toggleable__label {background-color: #d4ebff;}#sk-container-id-2 div.sk-label input.sk-toggleable__control:checked~label.sk-toggleable__label {background-color: #d4ebff;}#sk-container-id-2 input.sk-hidden--visually {border: 0;clip: rect(1px 1px 1px 1px);clip: rect(1px, 1px, 1px, 1px);height: 1px;margin: -1px;overflow: hidden;padding: 0;position: absolute;width: 1px;}#sk-container-id-2 div.sk-estimator {font-family: monospace;background-color: #f0f8ff;border: 1px dotted black;border-radius: 0.25em;box-sizing: border-box;margin-bottom: 0.5em;}#sk-container-id-2 div.sk-estimator:hover {background-color: #d4ebff;}#sk-container-id-2 div.sk-parallel-item::after {content: \"\";width: 100%;border-bottom: 1px solid gray;flex-grow: 1;}#sk-container-id-2 div.sk-label:hover label.sk-toggleable__label {background-color: #d4ebff;}#sk-container-id-2 div.sk-serial::before {content: \"\";position: absolute;border-left: 1px solid gray;box-sizing: border-box;top: 0;bottom: 0;left: 50%;z-index: 0;}#sk-container-id-2 div.sk-serial {display: flex;flex-direction: column;align-items: center;background-color: white;padding-right: 0.2em;padding-left: 0.2em;position: relative;}#sk-container-id-2 div.sk-item {position: relative;z-index: 1;}#sk-container-id-2 div.sk-parallel {display: flex;align-items: stretch;justify-content: center;background-color: white;position: relative;}#sk-container-id-2 div.sk-item::before, #sk-container-id-2 div.sk-parallel-item::before {content: \"\";position: absolute;border-left: 1px solid gray;box-sizing: border-box;top: 0;bottom: 0;left: 50%;z-index: -1;}#sk-container-id-2 div.sk-parallel-item {display: flex;flex-direction: column;z-index: 1;position: relative;background-color: white;}#sk-container-id-2 div.sk-parallel-item:first-child::after {align-self: flex-end;width: 50%;}#sk-container-id-2 div.sk-parallel-item:last-child::after {align-self: flex-start;width: 50%;}#sk-container-id-2 div.sk-parallel-item:only-child::after {width: 0;}#sk-container-id-2 div.sk-dashed-wrapped {border: 1px dashed gray;margin: 0 0.4em 0.5em 0.4em;box-sizing: border-box;padding-bottom: 0.4em;background-color: white;}#sk-container-id-2 div.sk-label label {font-family: monospace;font-weight: bold;display: inline-block;line-height: 1.2em;}#sk-container-id-2 div.sk-label-container {text-align: center;}#sk-container-id-2 div.sk-container {/* jupyter's `normalize.less` sets `[hidden] { display: none; }` but bootstrap.min.css set `[hidden] { display: none !important; }` so we also need the `!important` here to be able to override the default hidden behavior on the sphinx rendered scikit-learn.org. See: https://github.com/scikit-learn/scikit-learn/issues/21755 */display: inline-block !important;position: relative;}#sk-container-id-2 div.sk-text-repr-fallback {display: none;}</style><div id=\"sk-container-id-2\" class=\"sk-top-container\"><div class=\"sk-text-repr-fallback\"><pre>Pipeline(steps=[(&#x27;vect&#x27;,\n",
       "                 CountVectorizer(tokenizer=&lt;function tokenize at 0x122378ca0&gt;)),\n",
       "                (&#x27;tfidf&#x27;, TfidfTransformer()),\n",
       "                (&#x27;clf_log&#x27;,\n",
       "                 MultiOutputClassifier(estimator=LogisticRegression(C=10,\n",
       "                                                                    solver=&#x27;newton-cg&#x27;)))])</pre><b>In a Jupyter environment, please rerun this cell to show the HTML representation or trust the notebook. <br />On GitHub, the HTML representation is unable to render, please try loading this page with nbviewer.org.</b></div><div class=\"sk-container\" hidden><div class=\"sk-item sk-dashed-wrapped\"><div class=\"sk-label-container\"><div class=\"sk-label sk-toggleable\"><input class=\"sk-toggleable__control sk-hidden--visually\" id=\"sk-estimator-id-7\" type=\"checkbox\" ><label for=\"sk-estimator-id-7\" class=\"sk-toggleable__label sk-toggleable__label-arrow\">Pipeline</label><div class=\"sk-toggleable__content\"><pre>Pipeline(steps=[(&#x27;vect&#x27;,\n",
       "                 CountVectorizer(tokenizer=&lt;function tokenize at 0x122378ca0&gt;)),\n",
       "                (&#x27;tfidf&#x27;, TfidfTransformer()),\n",
       "                (&#x27;clf_log&#x27;,\n",
       "                 MultiOutputClassifier(estimator=LogisticRegression(C=10,\n",
       "                                                                    solver=&#x27;newton-cg&#x27;)))])</pre></div></div></div><div class=\"sk-serial\"><div class=\"sk-item\"><div class=\"sk-estimator sk-toggleable\"><input class=\"sk-toggleable__control sk-hidden--visually\" id=\"sk-estimator-id-8\" type=\"checkbox\" ><label for=\"sk-estimator-id-8\" class=\"sk-toggleable__label sk-toggleable__label-arrow\">CountVectorizer</label><div class=\"sk-toggleable__content\"><pre>CountVectorizer(tokenizer=&lt;function tokenize at 0x122378ca0&gt;)</pre></div></div></div><div class=\"sk-item\"><div class=\"sk-estimator sk-toggleable\"><input class=\"sk-toggleable__control sk-hidden--visually\" id=\"sk-estimator-id-9\" type=\"checkbox\" ><label for=\"sk-estimator-id-9\" class=\"sk-toggleable__label sk-toggleable__label-arrow\">TfidfTransformer</label><div class=\"sk-toggleable__content\"><pre>TfidfTransformer()</pre></div></div></div><div class=\"sk-item sk-dashed-wrapped\"><div class=\"sk-label-container\"><div class=\"sk-label sk-toggleable\"><input class=\"sk-toggleable__control sk-hidden--visually\" id=\"sk-estimator-id-10\" type=\"checkbox\" ><label for=\"sk-estimator-id-10\" class=\"sk-toggleable__label sk-toggleable__label-arrow\">clf_log: MultiOutputClassifier</label><div class=\"sk-toggleable__content\"><pre>MultiOutputClassifier(estimator=LogisticRegression(C=10, solver=&#x27;newton-cg&#x27;))</pre></div></div></div><div class=\"sk-parallel\"><div class=\"sk-parallel-item\"><div class=\"sk-item\"><div class=\"sk-label-container\"><div class=\"sk-label sk-toggleable\"><input class=\"sk-toggleable__control sk-hidden--visually\" id=\"sk-estimator-id-11\" type=\"checkbox\" ><label for=\"sk-estimator-id-11\" class=\"sk-toggleable__label sk-toggleable__label-arrow\">estimator: LogisticRegression</label><div class=\"sk-toggleable__content\"><pre>LogisticRegression(C=10, solver=&#x27;newton-cg&#x27;)</pre></div></div></div><div class=\"sk-serial\"><div class=\"sk-item\"><div class=\"sk-estimator sk-toggleable\"><input class=\"sk-toggleable__control sk-hidden--visually\" id=\"sk-estimator-id-12\" type=\"checkbox\" ><label for=\"sk-estimator-id-12\" class=\"sk-toggleable__label sk-toggleable__label-arrow\">LogisticRegression</label><div class=\"sk-toggleable__content\"><pre>LogisticRegression(C=10, solver=&#x27;newton-cg&#x27;)</pre></div></div></div></div></div></div></div></div></div></div></div></div>"
      ],
      "text/plain": [
       "Pipeline(steps=[('vect',\n",
       "                 CountVectorizer(tokenizer=<function tokenize at 0x122378ca0>)),\n",
       "                ('tfidf', TfidfTransformer()),\n",
       "                ('clf_log',\n",
       "                 MultiOutputClassifier(estimator=LogisticRegression(C=10,\n",
       "                                                                    solver='newton-cg')))])"
      ]
     },
     "execution_count": 12,
     "metadata": {},
     "output_type": "execute_result"
    }
   ],
   "source": [
    "# Fit the tuned model to the training data\n",
    "tuned_log = cv.best_estimator_\n",
    "tuned_log.fit(X_train, y_train)"
   ]
  },
  {
   "cell_type": "markdown",
   "id": "4a8071e7",
   "metadata": {},
   "source": [
    "### 7. Test your model"
   ]
  },
  {
   "cell_type": "code",
   "execution_count": 13,
   "id": "f07393ed",
   "metadata": {},
   "outputs": [
    {
     "name": "stdout",
     "output_type": "stream",
     "text": [
      "The training accuracy is: \n",
      "62.31238153783105\n",
      " \n",
      "The test accuracy is: \n",
      "28.53849700322729\n",
      " \n",
      "Classification report\n",
      "                        precision    recall  f1-score   support\n",
      "\n",
      "               related       0.86      0.92      0.89      4962\n",
      "               request       0.77      0.59      0.66      1141\n",
      "                 offer       0.00      0.00      0.00        30\n",
      "           aid_related       0.72      0.69      0.71      2678\n",
      "          medical_help       0.59      0.32      0.41       520\n",
      "      medical_products       0.65      0.32      0.43       311\n",
      "     search_and_rescue       0.60      0.17      0.27       202\n",
      "              security       0.33      0.03      0.05       120\n",
      "              military       0.63      0.33      0.44       210\n",
      "                 water       0.75      0.62      0.68       413\n",
      "                  food       0.79      0.64      0.71       716\n",
      "               shelter       0.76      0.53      0.63       569\n",
      "              clothing       0.79      0.34      0.47        98\n",
      "                 money       0.62      0.28      0.38       143\n",
      "        missing_people       0.67      0.07      0.13        80\n",
      "              refugees       0.65      0.26      0.37       212\n",
      "                 death       0.73      0.42      0.53       295\n",
      "             other_aid       0.48      0.21      0.30       859\n",
      "infrastructure_related       0.39      0.11      0.17       434\n",
      "             transport       0.71      0.18      0.29       301\n",
      "             buildings       0.65      0.41      0.50       322\n",
      "           electricity       0.77      0.26      0.39       137\n",
      "                 tools       0.00      0.00      0.00        37\n",
      "             hospitals       0.40      0.06      0.10        70\n",
      "                 shops       0.00      0.00      0.00        36\n",
      "           aid_centers       0.57      0.06      0.10        70\n",
      "  other_infrastructure       0.27      0.07      0.11       291\n",
      "       weather_related       0.82      0.70      0.76      1856\n",
      "                floods       0.84      0.51      0.63       534\n",
      "                 storm       0.75      0.56      0.64       630\n",
      "                  fire       0.73      0.25      0.37        65\n",
      "            earthquake       0.92      0.70      0.79       620\n",
      "                  cold       0.74      0.30      0.42       135\n",
      "         other_weather       0.42      0.13      0.20       353\n",
      "         direct_report       0.67      0.50      0.57      1276\n",
      "\n",
      "             micro avg       0.77      0.59      0.67     20726\n",
      "             macro avg       0.60      0.33      0.40     20726\n",
      "          weighted avg       0.73      0.59      0.64     20726\n",
      "           samples avg       0.61      0.50      0.50     20726\n",
      "\n"
     ]
    }
   ],
   "source": [
    "y_pred_tuned = tuned_log.predict(X_test)\n",
    "\n",
    "# Training accuracy\n",
    "print(\"The training accuracy is: \")\n",
    "print(accuracy_score(y_train, tuned_log.predict(X_train))*100)\n",
    "print(\" \")\n",
    "\n",
    "# Test accuracy\n",
    "print(\"The test accuracy is: \")\n",
    "print(accuracy_score(y_test, y_pred_tuned)*100)\n",
    "print(\" \")\n",
    "\n",
    "# Classification report\n",
    "print(\"Classification report\")\n",
    "print(classification_report(y_test, y_pred_tuned, target_names=y.columns.values))"
   ]
  },
  {
   "cell_type": "markdown",
   "id": "3d669257",
   "metadata": {},
   "source": [
    "> By adjusting two parameters, the accucary of training set improves drastically while the accuracy of test data slightly lower than that before parameter tuning. Overall, I would regard it as an effective parameter adjustment, but the performance of the tuned model is not as prospective as expected."
   ]
  },
  {
   "cell_type": "markdown",
   "id": "521621b0",
   "metadata": {},
   "source": [
    "### 8. Try improving your model further. "
   ]
  },
  {
   "cell_type": "code",
   "execution_count": 14,
   "id": "040f78b4",
   "metadata": {},
   "outputs": [
    {
     "name": "stdout",
     "output_type": "stream",
     "text": [
      "The training accuracy is: \n",
      "64.14630398032888\n",
      " \n",
      "The test accuracy is: \n",
      "29.260796065775317\n",
      " \n",
      "Classification report\n",
      "                        precision    recall  f1-score   support\n",
      "\n",
      "               related       0.84      0.95      0.89      4962\n",
      "               request       0.83      0.55      0.66      1141\n",
      "                 offer       0.00      0.00      0.00        30\n",
      "           aid_related       0.78      0.68      0.72      2678\n",
      "          medical_help       0.63      0.17      0.27       520\n",
      "      medical_products       0.79      0.20      0.31       311\n",
      "     search_and_rescue       0.65      0.08      0.15       202\n",
      "              security       0.00      0.00      0.00       120\n",
      "              military       0.64      0.13      0.21       210\n",
      "                 water       0.76      0.64      0.70       413\n",
      "                  food       0.79      0.70      0.74       716\n",
      "               shelter       0.83      0.50      0.62       569\n",
      "              clothing       0.83      0.40      0.54        98\n",
      "                 money       0.77      0.07      0.13       143\n",
      "        missing_people       0.00      0.00      0.00        80\n",
      "              refugees       0.73      0.14      0.24       212\n",
      "                 death       0.79      0.35      0.48       295\n",
      "             other_aid       0.65      0.05      0.09       859\n",
      "infrastructure_related       1.00      0.00      0.01       434\n",
      "             transport       0.79      0.09      0.16       301\n",
      "             buildings       0.79      0.25      0.38       322\n",
      "           electricity       0.78      0.13      0.23       137\n",
      "                 tools       0.00      0.00      0.00        37\n",
      "             hospitals       0.00      0.00      0.00        70\n",
      "                 shops       0.00      0.00      0.00        36\n",
      "           aid_centers       0.00      0.00      0.00        70\n",
      "  other_infrastructure       0.00      0.00      0.00       291\n",
      "       weather_related       0.87      0.70      0.78      1856\n",
      "                floods       0.90      0.49      0.64       534\n",
      "                 storm       0.79      0.58      0.67       630\n",
      "                  fire       0.83      0.08      0.14        65\n",
      "            earthquake       0.93      0.78      0.85       620\n",
      "                  cold       0.73      0.14      0.24       135\n",
      "         other_weather       0.55      0.02      0.03       353\n",
      "         direct_report       0.77      0.44      0.56      1276\n",
      "\n",
      "             micro avg       0.82      0.57      0.67     20726\n",
      "             macro avg       0.60      0.27      0.33     20726\n",
      "          weighted avg       0.77      0.57      0.61     20726\n",
      "           samples avg       0.67      0.50      0.53     20726\n",
      "\n"
     ]
    }
   ],
   "source": [
    "# Fit SVM into pipeline\n",
    "pipeline_svm.fit(X_train, y_train)\n",
    "\n",
    "# Predict on test data\n",
    "y_pred_svm = pipeline_svm.predict(X_test)\n",
    "\n",
    "# Training accuracy\n",
    "print(\"The training accuracy is: \")\n",
    "print(accuracy_score(y_train, pipeline_svm.predict(X_train))*100)\n",
    "print(\" \")\n",
    "\n",
    "# Test accuracy\n",
    "print(\"The test accuracy is: \")\n",
    "print(accuracy_score(y_test, y_pred_svm)*100)\n",
    "print(\" \")\n",
    "\n",
    "# Classification report\n",
    "print(\"Classification report\")\n",
    "print(classification_report(y_test, y_pred_svm, target_names=y.columns.values))"
   ]
  },
  {
   "cell_type": "code",
   "execution_count": 15,
   "id": "aa54beb2",
   "metadata": {},
   "outputs": [
    {
     "name": "stdout",
     "output_type": "stream",
     "text": [
      "Fitting 2 folds for each of 4 candidates, totalling 8 fits\n",
      "[CV 1/2; 1/4] START clf_svm__estimator__C=0.1, clf_svm__estimator__gamma=1......\n",
      "[CV 1/2; 1/4] END clf_svm__estimator__C=0.1, clf_svm__estimator__gamma=1;, score=0.209 total time= 6.3min\n",
      "[CV 2/2; 1/4] START clf_svm__estimator__C=0.1, clf_svm__estimator__gamma=1......\n",
      "[CV 2/2; 1/4] END clf_svm__estimator__C=0.1, clf_svm__estimator__gamma=1;, score=0.200 total time= 6.3min\n",
      "[CV 1/2; 2/4] START clf_svm__estimator__C=0.1, clf_svm__estimator__gamma=0.1....\n",
      "[CV 1/2; 2/4] END clf_svm__estimator__C=0.1, clf_svm__estimator__gamma=0.1;, score=0.201 total time= 3.9min\n",
      "[CV 2/2; 2/4] START clf_svm__estimator__C=0.1, clf_svm__estimator__gamma=0.1....\n",
      "[CV 2/2; 2/4] END clf_svm__estimator__C=0.1, clf_svm__estimator__gamma=0.1;, score=0.193 total time= 3.8min\n",
      "[CV 1/2; 3/4] START clf_svm__estimator__C=1, clf_svm__estimator__gamma=1........\n",
      "[CV 1/2; 3/4] END clf_svm__estimator__C=1, clf_svm__estimator__gamma=1;, score=0.277 total time= 6.8min\n",
      "[CV 2/2; 3/4] START clf_svm__estimator__C=1, clf_svm__estimator__gamma=1........\n",
      "[CV 2/2; 3/4] END clf_svm__estimator__C=1, clf_svm__estimator__gamma=1;, score=0.271 total time= 6.6min\n",
      "[CV 1/2; 4/4] START clf_svm__estimator__C=1, clf_svm__estimator__gamma=0.1......\n",
      "[CV 1/2; 4/4] END clf_svm__estimator__C=1, clf_svm__estimator__gamma=0.1;, score=0.241 total time= 3.8min\n",
      "[CV 2/2; 4/4] START clf_svm__estimator__C=1, clf_svm__estimator__gamma=0.1......\n",
      "[CV 2/2; 4/4] END clf_svm__estimator__C=1, clf_svm__estimator__gamma=0.1;, score=0.230 total time= 3.8min\n",
      "The best hyperparameters from Grid Search are:\n",
      "{'clf_svm__estimator__C': 1, 'clf_svm__estimator__gamma': 1}\n",
      "\n",
      "The mean accuracy of a model with these hyperparameters is:\n",
      "0.27396121819687247\n"
     ]
    }
   ],
   "source": [
    "parameters_svm= {'clf_svm__estimator__C': [0.1, 1,],\n",
    "                 'clf_svm__estimator__gamma': [1, 0.1]\n",
    "}\n",
    "    \n",
    "cv = GridSearchCV(pipeline_svm, param_grid=parameters_svm, cv=2, verbose=10)\n",
    "cv.fit(X_train, y_train)\n",
    "\n",
    "print(\"The best hyperparameters from Grid Search are:\")\n",
    "print(cv.best_params_)\n",
    "print(\"\")\n",
    "print(\"The mean accuracy of a model with these hyperparameters is:\")\n",
    "print(cv.best_score_)"
   ]
  },
  {
   "cell_type": "code",
   "execution_count": 16,
   "id": "c39c5caf",
   "metadata": {},
   "outputs": [
    {
     "data": {
      "text/html": [
       "<style>#sk-container-id-3 {color: black;background-color: white;}#sk-container-id-3 pre{padding: 0;}#sk-container-id-3 div.sk-toggleable {background-color: white;}#sk-container-id-3 label.sk-toggleable__label {cursor: pointer;display: block;width: 100%;margin-bottom: 0;padding: 0.3em;box-sizing: border-box;text-align: center;}#sk-container-id-3 label.sk-toggleable__label-arrow:before {content: \"▸\";float: left;margin-right: 0.25em;color: #696969;}#sk-container-id-3 label.sk-toggleable__label-arrow:hover:before {color: black;}#sk-container-id-3 div.sk-estimator:hover label.sk-toggleable__label-arrow:before {color: black;}#sk-container-id-3 div.sk-toggleable__content {max-height: 0;max-width: 0;overflow: hidden;text-align: left;background-color: #f0f8ff;}#sk-container-id-3 div.sk-toggleable__content pre {margin: 0.2em;color: black;border-radius: 0.25em;background-color: #f0f8ff;}#sk-container-id-3 input.sk-toggleable__control:checked~div.sk-toggleable__content {max-height: 200px;max-width: 100%;overflow: auto;}#sk-container-id-3 input.sk-toggleable__control:checked~label.sk-toggleable__label-arrow:before {content: \"▾\";}#sk-container-id-3 div.sk-estimator input.sk-toggleable__control:checked~label.sk-toggleable__label {background-color: #d4ebff;}#sk-container-id-3 div.sk-label input.sk-toggleable__control:checked~label.sk-toggleable__label {background-color: #d4ebff;}#sk-container-id-3 input.sk-hidden--visually {border: 0;clip: rect(1px 1px 1px 1px);clip: rect(1px, 1px, 1px, 1px);height: 1px;margin: -1px;overflow: hidden;padding: 0;position: absolute;width: 1px;}#sk-container-id-3 div.sk-estimator {font-family: monospace;background-color: #f0f8ff;border: 1px dotted black;border-radius: 0.25em;box-sizing: border-box;margin-bottom: 0.5em;}#sk-container-id-3 div.sk-estimator:hover {background-color: #d4ebff;}#sk-container-id-3 div.sk-parallel-item::after {content: \"\";width: 100%;border-bottom: 1px solid gray;flex-grow: 1;}#sk-container-id-3 div.sk-label:hover label.sk-toggleable__label {background-color: #d4ebff;}#sk-container-id-3 div.sk-serial::before {content: \"\";position: absolute;border-left: 1px solid gray;box-sizing: border-box;top: 0;bottom: 0;left: 50%;z-index: 0;}#sk-container-id-3 div.sk-serial {display: flex;flex-direction: column;align-items: center;background-color: white;padding-right: 0.2em;padding-left: 0.2em;position: relative;}#sk-container-id-3 div.sk-item {position: relative;z-index: 1;}#sk-container-id-3 div.sk-parallel {display: flex;align-items: stretch;justify-content: center;background-color: white;position: relative;}#sk-container-id-3 div.sk-item::before, #sk-container-id-3 div.sk-parallel-item::before {content: \"\";position: absolute;border-left: 1px solid gray;box-sizing: border-box;top: 0;bottom: 0;left: 50%;z-index: -1;}#sk-container-id-3 div.sk-parallel-item {display: flex;flex-direction: column;z-index: 1;position: relative;background-color: white;}#sk-container-id-3 div.sk-parallel-item:first-child::after {align-self: flex-end;width: 50%;}#sk-container-id-3 div.sk-parallel-item:last-child::after {align-self: flex-start;width: 50%;}#sk-container-id-3 div.sk-parallel-item:only-child::after {width: 0;}#sk-container-id-3 div.sk-dashed-wrapped {border: 1px dashed gray;margin: 0 0.4em 0.5em 0.4em;box-sizing: border-box;padding-bottom: 0.4em;background-color: white;}#sk-container-id-3 div.sk-label label {font-family: monospace;font-weight: bold;display: inline-block;line-height: 1.2em;}#sk-container-id-3 div.sk-label-container {text-align: center;}#sk-container-id-3 div.sk-container {/* jupyter's `normalize.less` sets `[hidden] { display: none; }` but bootstrap.min.css set `[hidden] { display: none !important; }` so we also need the `!important` here to be able to override the default hidden behavior on the sphinx rendered scikit-learn.org. See: https://github.com/scikit-learn/scikit-learn/issues/21755 */display: inline-block !important;position: relative;}#sk-container-id-3 div.sk-text-repr-fallback {display: none;}</style><div id=\"sk-container-id-3\" class=\"sk-top-container\"><div class=\"sk-text-repr-fallback\"><pre>Pipeline(steps=[(&#x27;vect&#x27;,\n",
       "                 CountVectorizer(tokenizer=&lt;function tokenize at 0x122378ca0&gt;)),\n",
       "                (&#x27;tfidf&#x27;, TfidfTransformer()),\n",
       "                (&#x27;clf_svm&#x27;,\n",
       "                 MultiOutputClassifier(estimator=SVC(C=1, gamma=1,\n",
       "                                                     max_iter=100000,\n",
       "                                                     random_state=42)))])</pre><b>In a Jupyter environment, please rerun this cell to show the HTML representation or trust the notebook. <br />On GitHub, the HTML representation is unable to render, please try loading this page with nbviewer.org.</b></div><div class=\"sk-container\" hidden><div class=\"sk-item sk-dashed-wrapped\"><div class=\"sk-label-container\"><div class=\"sk-label sk-toggleable\"><input class=\"sk-toggleable__control sk-hidden--visually\" id=\"sk-estimator-id-13\" type=\"checkbox\" ><label for=\"sk-estimator-id-13\" class=\"sk-toggleable__label sk-toggleable__label-arrow\">Pipeline</label><div class=\"sk-toggleable__content\"><pre>Pipeline(steps=[(&#x27;vect&#x27;,\n",
       "                 CountVectorizer(tokenizer=&lt;function tokenize at 0x122378ca0&gt;)),\n",
       "                (&#x27;tfidf&#x27;, TfidfTransformer()),\n",
       "                (&#x27;clf_svm&#x27;,\n",
       "                 MultiOutputClassifier(estimator=SVC(C=1, gamma=1,\n",
       "                                                     max_iter=100000,\n",
       "                                                     random_state=42)))])</pre></div></div></div><div class=\"sk-serial\"><div class=\"sk-item\"><div class=\"sk-estimator sk-toggleable\"><input class=\"sk-toggleable__control sk-hidden--visually\" id=\"sk-estimator-id-14\" type=\"checkbox\" ><label for=\"sk-estimator-id-14\" class=\"sk-toggleable__label sk-toggleable__label-arrow\">CountVectorizer</label><div class=\"sk-toggleable__content\"><pre>CountVectorizer(tokenizer=&lt;function tokenize at 0x122378ca0&gt;)</pre></div></div></div><div class=\"sk-item\"><div class=\"sk-estimator sk-toggleable\"><input class=\"sk-toggleable__control sk-hidden--visually\" id=\"sk-estimator-id-15\" type=\"checkbox\" ><label for=\"sk-estimator-id-15\" class=\"sk-toggleable__label sk-toggleable__label-arrow\">TfidfTransformer</label><div class=\"sk-toggleable__content\"><pre>TfidfTransformer()</pre></div></div></div><div class=\"sk-item sk-dashed-wrapped\"><div class=\"sk-label-container\"><div class=\"sk-label sk-toggleable\"><input class=\"sk-toggleable__control sk-hidden--visually\" id=\"sk-estimator-id-16\" type=\"checkbox\" ><label for=\"sk-estimator-id-16\" class=\"sk-toggleable__label sk-toggleable__label-arrow\">clf_svm: MultiOutputClassifier</label><div class=\"sk-toggleable__content\"><pre>MultiOutputClassifier(estimator=SVC(C=1, gamma=1, max_iter=100000,\n",
       "                                    random_state=42))</pre></div></div></div><div class=\"sk-parallel\"><div class=\"sk-parallel-item\"><div class=\"sk-item\"><div class=\"sk-label-container\"><div class=\"sk-label sk-toggleable\"><input class=\"sk-toggleable__control sk-hidden--visually\" id=\"sk-estimator-id-17\" type=\"checkbox\" ><label for=\"sk-estimator-id-17\" class=\"sk-toggleable__label sk-toggleable__label-arrow\">estimator: SVC</label><div class=\"sk-toggleable__content\"><pre>SVC(C=1, gamma=1, max_iter=100000, random_state=42)</pre></div></div></div><div class=\"sk-serial\"><div class=\"sk-item\"><div class=\"sk-estimator sk-toggleable\"><input class=\"sk-toggleable__control sk-hidden--visually\" id=\"sk-estimator-id-18\" type=\"checkbox\" ><label for=\"sk-estimator-id-18\" class=\"sk-toggleable__label sk-toggleable__label-arrow\">SVC</label><div class=\"sk-toggleable__content\"><pre>SVC(C=1, gamma=1, max_iter=100000, random_state=42)</pre></div></div></div></div></div></div></div></div></div></div></div></div>"
      ],
      "text/plain": [
       "Pipeline(steps=[('vect',\n",
       "                 CountVectorizer(tokenizer=<function tokenize at 0x122378ca0>)),\n",
       "                ('tfidf', TfidfTransformer()),\n",
       "                ('clf_svm',\n",
       "                 MultiOutputClassifier(estimator=SVC(C=1, gamma=1,\n",
       "                                                     max_iter=100000,\n",
       "                                                     random_state=42)))])"
      ]
     },
     "execution_count": 16,
     "metadata": {},
     "output_type": "execute_result"
    }
   ],
   "source": [
    "# Fit the tuned model to the training data\n",
    "tuned_svm = cv.best_estimator_\n",
    "tuned_svm.fit(X_train, y_train)"
   ]
  },
  {
   "cell_type": "code",
   "execution_count": 17,
   "id": "054432fc",
   "metadata": {},
   "outputs": [
    {
     "name": "stdout",
     "output_type": "stream",
     "text": [
      "The training accuracy is: \n",
      "64.12581322678142\n",
      " \n",
      "The test accuracy is: \n",
      "29.24542800061472\n",
      " \n",
      "Classification report\n",
      "                        precision    recall  f1-score   support\n",
      "\n",
      "               related       0.84      0.95      0.89      4962\n",
      "               request       0.83      0.55      0.66      1141\n",
      "                 offer       0.00      0.00      0.00        30\n",
      "           aid_related       0.78      0.68      0.72      2678\n",
      "          medical_help       0.63      0.17      0.27       520\n",
      "      medical_products       0.79      0.20      0.31       311\n",
      "     search_and_rescue       0.65      0.08      0.15       202\n",
      "              security       0.00      0.00      0.00       120\n",
      "              military       0.64      0.13      0.21       210\n",
      "                 water       0.76      0.64      0.70       413\n",
      "                  food       0.79      0.70      0.74       716\n",
      "               shelter       0.83      0.50      0.62       569\n",
      "              clothing       0.83      0.40      0.54        98\n",
      "                 money       0.77      0.07      0.13       143\n",
      "        missing_people       0.00      0.00      0.00        80\n",
      "              refugees       0.73      0.14      0.24       212\n",
      "                 death       0.79      0.35      0.48       295\n",
      "             other_aid       0.65      0.05      0.09       859\n",
      "infrastructure_related       1.00      0.00      0.01       434\n",
      "             transport       0.79      0.09      0.16       301\n",
      "             buildings       0.79      0.25      0.38       322\n",
      "           electricity       0.78      0.13      0.23       137\n",
      "                 tools       0.00      0.00      0.00        37\n",
      "             hospitals       0.00      0.00      0.00        70\n",
      "                 shops       0.00      0.00      0.00        36\n",
      "           aid_centers       0.00      0.00      0.00        70\n",
      "  other_infrastructure       0.00      0.00      0.00       291\n",
      "       weather_related       0.87      0.70      0.78      1856\n",
      "                floods       0.90      0.49      0.64       534\n",
      "                 storm       0.79      0.58      0.67       630\n",
      "                  fire       0.83      0.08      0.14        65\n",
      "            earthquake       0.93      0.78      0.85       620\n",
      "                  cold       0.73      0.14      0.24       135\n",
      "         other_weather       0.55      0.02      0.03       353\n",
      "         direct_report       0.77      0.44      0.56      1276\n",
      "\n",
      "             micro avg       0.82      0.57      0.67     20726\n",
      "             macro avg       0.60      0.27      0.33     20726\n",
      "          weighted avg       0.77      0.57      0.61     20726\n",
      "           samples avg       0.67      0.50      0.53     20726\n",
      "\n"
     ]
    }
   ],
   "source": [
    "y_pred_tuned = tuned_svm.predict(X_test)\n",
    "\n",
    "# Training accuracy\n",
    "print(\"The training accuracy is: \")\n",
    "print(accuracy_score(y_train, tuned_svm.predict(X_train))*100)\n",
    "print(\" \")\n",
    "\n",
    "# Test accuracy\n",
    "print(\"The test accuracy is: \")\n",
    "print(accuracy_score(y_test, y_pred_tuned)*100)\n",
    "print(\" \")\n",
    "\n",
    "# Classification report\n",
    "print(\"Classification report\")\n",
    "print(classification_report(y_test, y_pred_tuned, target_names=y.columns.values))"
   ]
  },
  {
   "cell_type": "markdown",
   "id": "5d1e5c11",
   "metadata": {},
   "source": [
    "> In order to further improve the performance, classifier of Support Vector Machine is adopt. Compared to Logistic Regression and Random Forest models, the result of SVM reveals a better accuracy on test set and thus it is used as  the prediction model.\n",
    "\n",
    "> The tuning of hyperparameter of SVM only includes 2 parameters because of the limitation of hardware. It takes too much time on tuning and eventually I have to choose few parameters to proceed the project. The result of the tuning does not reveal improvement compared to that of the simple SVM model. One the of main reasons would be too few parameters are involved in the GridSearch and lead to the minor positive impact on tuning."
   ]
  },
  {
   "cell_type": "markdown",
   "id": "ac4bdbc4",
   "metadata": {},
   "source": [
    "### 9. Export your model as a pickle file"
   ]
  },
  {
   "cell_type": "code",
   "execution_count": 18,
   "id": "38c9e449",
   "metadata": {},
   "outputs": [],
   "source": [
    "# Create a pickle file for the model\n",
    "file_name = 'classifier.pkl'\n",
    "with open (file_name, 'wb') as f:\n",
    "    pickle.dump(pipeline_svm, f)"
   ]
  },
  {
   "cell_type": "markdown",
   "id": "d5281a72",
   "metadata": {},
   "source": [
    "### 10. Use this notebook to complete `train.py`\n",
    "Use the template file attached in the Resources folder to write a script that runs the steps above to create a database and export a model based on a new dataset specified by the user."
   ]
  },
  {
   "cell_type": "code",
   "execution_count": null,
   "id": "f7425699",
   "metadata": {},
   "outputs": [],
   "source": []
  }
 ],
 "metadata": {
  "kernelspec": {
   "display_name": "Python 3 (ipykernel)",
   "language": "python",
   "name": "python3"
  },
  "language_info": {
   "codemirror_mode": {
    "name": "ipython",
    "version": 3
   },
   "file_extension": ".py",
   "mimetype": "text/x-python",
   "name": "python",
   "nbconvert_exporter": "python",
   "pygments_lexer": "ipython3",
   "version": "3.10.11"
  }
 },
 "nbformat": 4,
 "nbformat_minor": 5
}
